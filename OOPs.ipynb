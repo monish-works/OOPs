{
  "nbformat": 4,
  "nbformat_minor": 0,
  "metadata": {
    "colab": {
      "provenance": []
    },
    "kernelspec": {
      "name": "python3",
      "display_name": "Python 3"
    },
    "language_info": {
      "name": "python"
    }
  },
  "cells": [
    {
      "cell_type": "markdown",
      "source": [
        "# OOPs"
      ],
      "metadata": {
        "id": "2mUVX6lca8to"
      }
    },
    {
      "cell_type": "markdown",
      "source": [
        "1.What is Object-Oriented Programming (OOP)?\n",
        "- Object-Oriented Programming (OOP) is a programming paradigm that organizes software design around objects, which are data structures containing both data (attributes) and code (methods) that operate on that data, promoting code reusability and modularity."
      ],
      "metadata": {
        "id": "qBFfscwHbbMq"
      }
    },
    {
      "cell_type": "markdown",
      "source": [
        "2.What is a class in OOP?\n",
        "- In Object-Oriented Programming (OOP), a class is a blueprint or template for creating objects, defining their structure (attributes) and behavior (methods). It's a fundamental concept that promotes code organization, reusability, and maintainability."
      ],
      "metadata": {
        "id": "Z4BJEGR_czxm"
      }
    },
    {
      "cell_type": "markdown",
      "source": [
        "3.What is an object in OOP?\n",
        "- In Object-Oriented Programming (OOP), an object is a fundamental unit that combines data (attributes or properties) and the code (methods or behaviors) that operates on that data, representing a real-world entity or concept."
      ],
      "metadata": {
        "id": "tsgua1Z_dB85"
      }
    },
    {
      "cell_type": "markdown",
      "source": [
        "4.What is the difference between abstraction and encapsulation?\n",
        "- Abstraction focuses on presenting only essential details and hiding complex implementation, while encapsulation bundles data and methods into a unit, restricting direct access and promoting controlled access through methods."
      ],
      "metadata": {
        "id": "ZVuH7Vr1dT4R"
      }
    },
    {
      "cell_type": "markdown",
      "source": [
        "5.What are dunder methods in Python?\n",
        "- In Python, \"dunder methods,\" also known as \"magic methods\" or \"special methods,\" are methods with names that start and end with double underscores (e.g., __init__, __str__) that allow you to customize the behavior of your classes and objects."
      ],
      "metadata": {
        "id": "Mmm70uJodnol"
      }
    },
    {
      "cell_type": "markdown",
      "source": [
        "6.Explain the concept of inheritance in OOP.\n",
        "- In Object-Oriented Programming (OOP), inheritance is a mechanism where a new class (subclass or derived class) inherits properties and behaviors from an existing class (superclass or base class), promoting code reuse and hierarchical relationships."
      ],
      "metadata": {
        "id": "DdCrNmaaeU3X"
      }
    },
    {
      "cell_type": "markdown",
      "source": [
        "7.What is polymorphism in OOP?\n",
        "- In Object-Oriented Programming (OOP), polymorphism means \"many forms\" and allows objects of different classes to be treated as objects of a common superclass, enabling code reusability and flexibility."
      ],
      "metadata": {
        "id": "TKtPFO2seil_"
      }
    },
    {
      "cell_type": "markdown",
      "source": [
        "8.How is encapsulation achieved in Python?\n",
        "- Encapsulation is one of the core principles of Object-Oriented Programming (OOP) that helps in restricting direct access to an object's data and methods. In Python, encapsulation is achieved using access specifiers (public, protected, and private) and by defining getter and setter methods."
      ],
      "metadata": {
        "id": "mwgrBJwpe05D"
      }
    },
    {
      "cell_type": "markdown",
      "source": [
        "9.What is a constructor in Python?\n",
        "- In Python, a constructor is a special method, denoted by __init__, that automatically initializes an object's attributes when a new instance of a class is created."
      ],
      "metadata": {
        "id": "aZnAhMzZfMwc"
      }
    },
    {
      "cell_type": "markdown",
      "source": [
        "10.What are class and static methods in Python?\n",
        "- In Python, both class methods and static methods are used to define behaviors that are associated with a class rather than an instance. They are defined using decorators:\n",
        "\n",
        "@classmethod → for class methods\n",
        "@staticmethod → for static methods"
      ],
      "metadata": {
        "id": "rFfd2s6mflzA"
      }
    },
    {
      "cell_type": "markdown",
      "source": [
        "11.What is method overloading in Python?\n",
        "- In Python, while it's a concept found in other object-oriented languages, method overloading (having multiple methods with the same name but different parameters) is not directly supported. Instead, you achieve similar functionality using default arguments, variable-length arguments, or conditionals within a single function."
      ],
      "metadata": {
        "id": "8RyMAduugEkQ"
      }
    },
    {
      "cell_type": "markdown",
      "source": [
        "12.What is method overriding in OOP?\n",
        "- Method overriding, in object-oriented programming, is a language feature that allows a subclass or child class to provide a specific implementation of a method that is already provided by one of its superclasses or parent classes."
      ],
      "metadata": {
        "id": "8-UQ3sKDgdU_"
      }
    },
    {
      "cell_type": "markdown",
      "source": [
        "13.What is a property decorator in Python?\n",
        "- The @property decorator in Python is used to define getter, setter, and deleter methods in a class, making attribute access more Pythonic. It allows you to control how attributes are accessed and modified while keeping a simple syntax."
      ],
      "metadata": {
        "id": "7ylSUVDdg2-h"
      }
    },
    {
      "cell_type": "markdown",
      "source": [
        "14.Why is polymorphism important in OOP?\n",
        "- Polymorphism is crucial in Object-Oriented Programming (OOP) because it enables code reusability, flexibility, and extensibility by allowing objects of different types to be treated as objects of a common type, promoting a more adaptable and maintainable software design."
      ],
      "metadata": {
        "id": "Yu5Kn7XGhkQs"
      }
    },
    {
      "cell_type": "markdown",
      "source": [
        "15.What is an abstract class in Python?\n",
        "- In Python, an abstract class is a blueprint for other classes, designed to be subclassed but not instantiated directly, containing abstract methods (methods without implementation) that subclasses must implement."
      ],
      "metadata": {
        "id": "Ki6FzaB8iHkU"
      }
    },
    {
      "cell_type": "markdown",
      "source": [
        "16.What are the advantages of OOP?\n",
        "- Object-Oriented Programming (OOP) offers advantages like improved code organization through encapsulation, reusability via inheritance, flexibility with polymorphism, and simplification of complex systems through abstraction, leading to modular, maintainable, and scalable software."
      ],
      "metadata": {
        "id": "Rv62tTEPiUkU"
      }
    },
    {
      "cell_type": "markdown",
      "source": [
        "17.What is the difference between a class variable and an instance variable?\n",
        "- In object-oriented programming, a class variable (also known as a static variable) is shared by all instances (objects) of a class, while an instance variable is unique to each instance."
      ],
      "metadata": {
        "id": "SP6ztr7Dil7f"
      }
    },
    {
      "cell_type": "markdown",
      "source": [
        "18.What is multiple inheritance in Python?\n",
        "- In Python, multiple inheritance allows a class to inherit attributes and methods from more than one parent class, combining functionalities from different base classes into a single derived class."
      ],
      "metadata": {
        "id": "JlDvi7Qfi10L"
      }
    },
    {
      "cell_type": "markdown",
      "source": [
        "19.Explain the purpose of ‘’__str__’ and ‘__repr__’ ‘ methods in Python.\n",
        "- Both __str__ and __repr__ are dunder (double underscore) methods in Python that define how an object is represented as a string. They allow you to customize what gets displayed when an object is printed or converted to a string.\n",
        "\n"
      ],
      "metadata": {
        "id": "9LE2wnpdjFT1"
      }
    },
    {
      "cell_type": "markdown",
      "source": [
        "20.What is the significance of the ‘super()’ function in Python?\n",
        "- In Python, the super() function is a built-in function used to access and call methods of a parent or superclass from within a subclass, enabling code reuse and facilitating inheritance."
      ],
      "metadata": {
        "id": "4og4EdeYjblU"
      }
    },
    {
      "cell_type": "markdown",
      "source": [
        "21.What is the significance of the __del__ method in Python?\n",
        "- The __del__ method, also known as the destructor, is a special method in Python that is called when an object is about to be destroyed (i.e., when there are no more references to it). It is primarily used for cleanup operations like closing files, releasing memory, or disconnecting from a database."
      ],
      "metadata": {
        "id": "1r3zkLdtlLtC"
      }
    },
    {
      "cell_type": "markdown",
      "source": [
        "22.What is the difference between @staticmethod and @classmethod in Python?\n",
        "- In Python, @classmethod binds a method to the class, taking the class (cls) as its first argument, while @staticmethod binds a method to the class but doesn't receive any implicit arguments, acting like a regular function within the class's namespace."
      ],
      "metadata": {
        "id": "T5bwZceplfah"
      }
    },
    {
      "cell_type": "markdown",
      "source": [
        "23.How does polymorphism work in Python with inheritance?\n",
        "- In Python, polymorphism with inheritance is achieved through method overriding, where a child class can redefine a method inherited from its parent class, allowing the same method name to have different implementations depending on the object's class.\n"
      ],
      "metadata": {
        "id": "ESW7DGpJltxQ"
      }
    },
    {
      "cell_type": "markdown",
      "source": [
        "24.What is method chaining in Python OOP?\n",
        "- In Python Object-Oriented Programming (OOP), method chaining allows you to call multiple methods sequentially on the same object in a single line, by having each method return the object itself (often self). This creates a fluent and readable code style."
      ],
      "metadata": {
        "id": "zxNojHXgl_RS"
      }
    },
    {
      "cell_type": "markdown",
      "source": [
        "25.What is the purpose of the __call__ method in Python?\n",
        "- The __call__ method in Python allows an instance of a class to be called like a function. It enables objects to behave like functions while maintaining state or encapsulating complex logic.\n",
        "\n"
      ],
      "metadata": {
        "id": "q1L5cBy4mHLz"
      }
    },
    {
      "cell_type": "markdown",
      "source": [
        "# code"
      ],
      "metadata": {
        "id": "KwD3QP-Nmp4H"
      }
    },
    {
      "cell_type": "markdown",
      "source": [
        "1.Create a parent class Animal with a method speak() that prints a generic message. Create a child class Dog that overrides the speak() method to print \"Bark!\"."
      ],
      "metadata": {
        "id": "K0HpjVglmsmT"
      }
    },
    {
      "cell_type": "code",
      "source": [
        "class Animal:\n",
        "    def speak(self):\n",
        "        print(\"The animal makes a sound.\")\n",
        "\n",
        "class Dog(Animal):\n",
        "    def speak(self):\n",
        "        print(\"Bark!\")\n",
        "\n",
        "# Creating instances\n",
        "animal = Animal()\n",
        "dog = Dog()\n",
        "\n",
        "# Calling the speak method\n",
        "animal.speak()  # Output: The animal makes a sound.\n",
        "dog.speak()     # Output: Bark!\n"
      ],
      "metadata": {
        "colab": {
          "base_uri": "https://localhost:8080/"
        },
        "id": "cIBMZe9Xm4zC",
        "outputId": "b93fc6e3-ebd7-41da-dd78-3da7f1f46184"
      },
      "execution_count": 2,
      "outputs": [
        {
          "output_type": "stream",
          "name": "stdout",
          "text": [
            "The animal makes a sound.\n",
            "Bark!\n"
          ]
        }
      ]
    },
    {
      "cell_type": "markdown",
      "source": [
        "2.Write a program to create an abstract class Shape with a method area(). Derive classes Circle and Rectangle from it and implement the area() method in both."
      ],
      "metadata": {
        "id": "jfGK4ug2nBeh"
      }
    },
    {
      "cell_type": "code",
      "source": [
        "from abc import ABC, abstractmethod\n",
        "import math\n",
        "\n",
        "# Abstract class\n",
        "class Shape(ABC):\n",
        "    @abstractmethod\n",
        "    def area(self):\n",
        "        pass  # Abstract method, must be implemented in subclasses\n",
        "\n",
        "# Derived class for Circle\n",
        "class Circle(Shape):\n",
        "    def __init__(self, radius):\n",
        "        self.radius = radius\n",
        "\n",
        "    def area(self):\n",
        "        return math.pi * self.radius ** 2  # πr²\n",
        "\n",
        "# Derived class for Rectangle\n",
        "class Rectangle(Shape):\n",
        "    def __init__(self, length, width):\n",
        "        self.length = length\n",
        "        self.width = width\n",
        "\n",
        "    def area(self):\n",
        "        return self.length * self.width  # length × width\n",
        "\n",
        "# Creating objects and calculating area\n",
        "circle = Circle(5)\n",
        "rectangle = Rectangle(4, 6)\n",
        "\n",
        "print(f\"Circle Area: {circle.area():.2f}\")      # Output: Circle Area: 78.54\n",
        "print(f\"Rectangle Area: {rectangle.area()}\")   # Output: Rectangle Area: 24\n"
      ],
      "metadata": {
        "id": "YjJiQU59nGe0"
      },
      "execution_count": null,
      "outputs": []
    },
    {
      "cell_type": "markdown",
      "source": [
        "3.Implement a multi-level inheritance scenario where a class Vehicle has an attribute type. Derive a class Car and further derive a class ElectricCar that adds a battery attribute."
      ],
      "metadata": {
        "id": "e1pVez9VnO_W"
      }
    },
    {
      "cell_type": "code",
      "source": [
        "# Base class\n",
        "class Vehicle:\n",
        "    def __init__(self, type):\n",
        "        self.type = type\n",
        "\n",
        "    def show_type(self):\n",
        "        print(f\"Vehicle Type: {self.type}\")\n",
        "\n",
        "# Intermediate class (inherits from Vehicle)\n",
        "class Car(Vehicle):\n",
        "    def __init__(self, brand, model, type=\"Car\"):\n",
        "        super().__init__(type)  # Calling parent constructor\n",
        "        self.brand = brand\n",
        "        self.model = model\n",
        "\n",
        "    def show_details(self):\n",
        "        print(f\"Car: {self.brand} {self.model}\")\n",
        "\n",
        "# Derived class (inherits from Car)\n",
        "class ElectricCar(Car):\n",
        "    def __init__(self, brand, model, battery_capacity):\n",
        "        super().__init__(brand, model)  # Calling Car's constructor\n",
        "        self.battery_capacity = battery_capacity\n",
        "\n",
        "    def show_battery(self):\n",
        "        print(f\"Battery Capacity: {self.battery_capacity} kWh\")\n",
        "\n",
        "# Creating an instance of ElectricCar\n",
        "tesla = ElectricCar(\"Tesla\", \"Model S\", 100)\n",
        "\n",
        "# Displaying details\n",
        "tesla.show_type()      # Output: Vehicle Type: Car\n",
        "tesla.show_details()   # Output: Car: Tesla Model S\n",
        "tesla.show_battery()   # Output: Battery Capacity: 100 kWh\n"
      ],
      "metadata": {
        "id": "-CYl1MJAnUK3"
      },
      "execution_count": null,
      "outputs": []
    },
    {
      "cell_type": "markdown",
      "source": [
        "4.Demonstrate polymorphism by creating a base class Bird with a method fly(). Create two derived classes Sparrow and Penguin that override the fly() method."
      ],
      "metadata": {
        "id": "3gPBA-ngncj1"
      }
    },
    {
      "cell_type": "code",
      "source": [
        "# Base class\n",
        "class Bird:\n",
        "    def fly(self):\n",
        "        print(\"Some birds can fly, some cannot.\")\n",
        "\n",
        "# Derived class - Sparrow (can fly)\n",
        "class Sparrow(Bird):\n",
        "    def fly(self):\n",
        "        print(\"Sparrow flies high in the sky!\")\n",
        "\n",
        "# Derived class - Penguin (cannot fly)\n",
        "class Penguin(Bird):\n",
        "    def fly(self):\n",
        "        print(\"Penguins cannot fly, but they swim well!\")\n",
        "\n",
        "# Function demonstrating polymorphism\n",
        "def bird_flight_test(bird):\n",
        "    bird.fly()\n",
        "\n",
        "# Creating objects\n",
        "sparrow = Sparrow()\n",
        "penguin = Penguin()\n",
        "\n",
        "# Calling the fly method\n",
        "bird_flight_test(sparrow)  # Output: Sparrow flies high in the sky!\n",
        "bird_flight_test(penguin)  # Output: Penguins cannot fly, but they swim well!\n"
      ],
      "metadata": {
        "id": "tgVQEa56npHN"
      },
      "execution_count": null,
      "outputs": []
    },
    {
      "cell_type": "markdown",
      "source": [
        "5.Write a program to demonstrate encapsulation by creating a class BankAccount with private attributes balance and methods to deposit, withdraw, and check balance."
      ],
      "metadata": {
        "id": "hqMNEeL6ns9l"
      }
    },
    {
      "cell_type": "code",
      "source": [
        "class BankAccount:\n",
        "    def __init__(self, account_holder, initial_balance=0):\n",
        "        self.account_holder = account_holder\n",
        "        self.__balance = initial_balance  # Private attribute\n",
        "\n",
        "    # Method to deposit money\n",
        "    def deposit(self, amount):\n",
        "        if amount > 0:\n",
        "            self.__balance += amount\n",
        "            print(f\"Deposited ${amount}. New Balance: ${self.__balance}\")\n",
        "        else:\n",
        "            print(\"Deposit amount must be positive.\")\n",
        "\n",
        "    # Method to withdraw money\n",
        "    def withdraw(self, amount):\n",
        "        if 0 < amount <= self.__balance:\n",
        "            self.__balance -= amount\n",
        "            print(f\"Withdrawn ${amount}. Remaining Balance: ${self.__balance}\")\n",
        "        else:\n",
        "            print(\"Insufficient balance or invalid amount.\")\n",
        "\n",
        "    # Method to check balance (Encapsulation - controlled access)\n",
        "    def get_balance(self):\n",
        "        return f\"Account Balance: ${self.__balance}\"\n",
        "\n",
        "# Creating an instance\n",
        "account = BankAccount(\"John Doe\", 500)\n",
        "\n",
        "# Accessing methods\n",
        "account.deposit(200)   # Output: Deposited $200. New Balance: $700\n",
        "account.withdraw(100)  # Output: Withdrawn $100. Remaining Balance: $600\n",
        "print(account.get_balance())  # Output: Account Balance: $600\n",
        "\n",
        "# Attempting direct access (will fail)\n",
        "# print(account.__balance)  # AttributeError: 'BankAccount' object has no attribute '__balance'\n"
      ],
      "metadata": {
        "id": "ay9wYneTnxx4"
      },
      "execution_count": null,
      "outputs": []
    },
    {
      "cell_type": "markdown",
      "source": [
        "6.Demonstrate runtime polymorphism using a method play() in a base class Instrument. Derive classes Guitar and Piano that implement their own version of play()."
      ],
      "metadata": {
        "id": "5hZ6JBikn-Ac"
      }
    },
    {
      "cell_type": "code",
      "source": [
        "# Base class\n",
        "class Instrument:\n",
        "    def play(self):\n",
        "        print(\"Playing an instrument...\")\n",
        "\n",
        "# Derived class - Guitar\n",
        "class Guitar(Instrument):\n",
        "    def play(self):\n",
        "        print(\"Strumming the guitar!\")\n",
        "\n",
        "# Derived class - Piano\n",
        "class Piano(Instrument):\n",
        "    def play(self):\n",
        "        print(\"Playing the piano keys!\")\n",
        "\n",
        "# Function to demonstrate runtime polymorphism\n",
        "def play_instrument(instrument):\n",
        "    instrument.play()  # Calls the appropriate overridden method\n",
        "\n",
        "# Creating objects\n",
        "guitar = Guitar()\n",
        "piano = Piano()\n",
        "\n",
        "# Calling the play method through the function\n",
        "play_instrument(guitar)  # Output: Strumming the guitar!\n",
        "play_instrument(piano)   # Output: Playing the piano keys!\n"
      ],
      "metadata": {
        "id": "0_c5zCnzoEWr"
      },
      "execution_count": null,
      "outputs": []
    },
    {
      "cell_type": "markdown",
      "source": [
        "7.Create a class MathOperations with a class method add_numbers() to add two numbers and a static method subtract_numbers() to subtract two numbers."
      ],
      "metadata": {
        "id": "KTjQPGXpoNlC"
      }
    },
    {
      "cell_type": "code",
      "source": [
        "class MathOperations:\n",
        "    @classmethod\n",
        "    def add_numbers(cls, a, b):\n",
        "        return a + b  # Class method to add numbers\n",
        "\n",
        "    @staticmethod\n",
        "    def subtract_numbers(a, b):\n",
        "        return a - b  # Static method to subtract numbers\n",
        "\n",
        "# Calling class and static methods\n",
        "sum_result = MathOperations.add_numbers(10, 5)\n",
        "diff_result = MathOperations.subtract_numbers(10, 5)\n",
        "\n",
        "print(f\"Sum: {sum_result}\")         # Output: Sum: 15\n",
        "print(f\"Difference: {diff_result}\") # Output: Difference: 5\n"
      ],
      "metadata": {
        "id": "MyzSwxnRoRpc"
      },
      "execution_count": null,
      "outputs": []
    },
    {
      "cell_type": "markdown",
      "source": [
        "8.Implement a class Person with a class method to count the total number of persons created."
      ],
      "metadata": {
        "id": "Fbt1D337oYL8"
      }
    },
    {
      "cell_type": "code",
      "source": [
        "class Person:\n",
        "    count = 0  # Class variable to track number of instances\n",
        "\n",
        "    def __init__(self, name):\n",
        "        self.name = name\n",
        "        Person.count += 1  # Increment count when a new object is created\n",
        "\n",
        "    @classmethod\n",
        "    def total_persons(cls):\n",
        "        return f\"Total Persons Created: {cls.count}\"\n",
        "\n",
        "# Creating instances\n",
        "p1 = Person(\"Alice\")\n",
        "p2 = Person(\"Bob\")\n",
        "p3 = Person(\"Charlie\")\n",
        "\n",
        "# Calling class method\n",
        "print(Person.total_persons())  # Output: Total Persons Created: 3\n"
      ],
      "metadata": {
        "id": "pa5UFKA0oeS1"
      },
      "execution_count": null,
      "outputs": []
    },
    {
      "cell_type": "markdown",
      "source": [
        "9.Write a class Fraction with attributes numerator and denominator. Override the str method to display the fraction as \"numerator/denominator\"."
      ],
      "metadata": {
        "id": "oyEDGCNSonBd"
      }
    },
    {
      "cell_type": "code",
      "source": [
        "class Fraction:\n",
        "    def __init__(self, numerator, denominator):\n",
        "        if denominator == 0:\n",
        "            raise ValueError(\"Denominator cannot be zero.\")\n",
        "        self.numerator = numerator\n",
        "        self.denominator = denominator\n",
        "\n",
        "    def __str__(self):\n",
        "        return f\"{self.numerator}/{self.denominator}\"  # Display fraction format\n",
        "\n",
        "# Creating Fraction instances\n",
        "frac1 = Fraction(3, 4)\n",
        "frac2 = Fraction(5, 8)\n",
        "\n",
        "# Printing fractions\n",
        "print(frac1)  # Output: 3/4\n",
        "print(frac2)  # Output: 5/8\n"
      ],
      "metadata": {
        "id": "R6HdxsvLor_5"
      },
      "execution_count": null,
      "outputs": []
    },
    {
      "cell_type": "markdown",
      "source": [
        "10.Demonstrate operator overloading by creating a class Vector and overriding the add method to add two vectors."
      ],
      "metadata": {
        "id": "7S75P5jbozSl"
      }
    },
    {
      "cell_type": "code",
      "source": [
        "class Vector:\n",
        "    def __init__(self, x, y):\n",
        "        self.x = x\n",
        "        self.y = y\n",
        "\n",
        "    def __add__(self, other):\n",
        "        if not isinstance(other, Vector):\n",
        "            raise TypeError(\"Can only add Vector to Vector\")\n",
        "        return Vector(self.x + other.x, self.y + other.y)  # Vector addition\n",
        "\n",
        "    def __str__(self):\n",
        "        return f\"({self.x}, {self.y})\"  # Display vector in (x, y) format\n",
        "\n",
        "# Creating Vector instances\n",
        "v1 = Vector(3, 4)\n",
        "v2 = Vector(1, 2)\n",
        "\n",
        "# Adding Vectors using overloaded +\n",
        "v3 = v1 + v2\n",
        "\n",
        "# Printing results\n",
        "print(f\"Vector 1: {v1}\")  # Output: (3, 4)\n",
        "print(f\"Vector 2: {v2}\")  # Output: (1, 2)\n",
        "print(f\"Sum: {v3}\")       # Output: (4, 6)\n"
      ],
      "metadata": {
        "id": "s_xWiCcxo-Kr"
      },
      "execution_count": null,
      "outputs": []
    },
    {
      "cell_type": "markdown",
      "source": [
        "11.Create a class Person with attributes name and age. Add a method greet() that prints \"Hello, my name is {name} and I am {age} years old.\""
      ],
      "metadata": {
        "id": "eFeEGYZYwsGd"
      }
    },
    {
      "cell_type": "code",
      "source": [
        "class Person:\n",
        "    def __init__(self, name, age):\n",
        "        self.name = name\n",
        "        self.age = age\n",
        "\n",
        "    def greet(self):\n",
        "        print(f\"Hello, my name is {self.name} and I am {self.age} years old.\")\n",
        "\n",
        "# Creating instances\n",
        "p1 = Person(\"Alice\", 25)\n",
        "p2 = Person(\"Bob\", 30)\n",
        "\n",
        "# Calling greet method\n",
        "p1.greet()  # Output: Hello, my name is Alice and I am 25 years old.\n",
        "p2.greet()  # Output: Hello, my name is Bob and I am 30 years old.\n"
      ],
      "metadata": {
        "id": "ZF_W1EklxGbl"
      },
      "execution_count": null,
      "outputs": []
    },
    {
      "cell_type": "markdown",
      "source": [
        "12.Implement a class Student with attributes name and grades. Create a method average_grade() to compute the average of the grades."
      ],
      "metadata": {
        "id": "lnMa66cqxMVM"
      }
    },
    {
      "cell_type": "code",
      "source": [
        "class Student:\n",
        "    def __init__(self, name, grades):\n",
        "        self.name = name\n",
        "        self.grades = grades  # List of grades\n",
        "\n",
        "    def average_grade(self):\n",
        "        if not self.grades:  # Handle empty grade list\n",
        "            return 0\n",
        "        return sum(self.grades) / len(self.grades)\n",
        "\n",
        "# Creating Student instances\n",
        "s1 = Student(\"Alice\", [85, 90, 78, 92])\n",
        "s2 = Student(\"Bob\", [88, 76, 95, 89, 84])\n",
        "\n",
        "# Printing average grades\n",
        "print(f\"{s1.name}'s Average Grade: {s1.average_grade():.2f}\")  # Output: Alice's Average Grade: 86.25\n",
        "print(f\"{s2.name}'s Average Grade: {s2.average_grade():.2f}\")  # Output: Bob's Average Grade: 86.40\n"
      ],
      "metadata": {
        "id": "tAYVOS84xPoq"
      },
      "execution_count": null,
      "outputs": []
    },
    {
      "cell_type": "markdown",
      "source": [
        "13.Create a class Rectangle with methods set_dimensions() to set the dimensions and area() to calculate the area."
      ],
      "metadata": {
        "id": "HdakFFT5xVWC"
      }
    },
    {
      "cell_type": "code",
      "source": [
        "class Rectangle:\n",
        "    def __init__(self, width=0, height=0):\n",
        "        self.width = width\n",
        "        self.height = height\n",
        "\n",
        "    def set_dimensions(self, width, height):\n",
        "        self.width = width\n",
        "        self.height = height\n",
        "\n",
        "    def area(self):\n",
        "        return self.width * self.height\n",
        "\n",
        "# Creating a Rectangle instance\n",
        "rect = Rectangle()\n",
        "\n",
        "# Setting dimensions\n",
        "rect.set_dimensions(5, 10)\n",
        "\n",
        "# Calculating and printing area\n",
        "print(f\"Rectangle Area: {rect.area()}\")  # Output: Rectangle Area: 50\n"
      ],
      "metadata": {
        "id": "jQa-xFiOxbja"
      },
      "execution_count": null,
      "outputs": []
    },
    {
      "cell_type": "markdown",
      "source": [
        "14.Create a class Employee with a method calculate_salary() that computes the salary based on hours worked and hourly rate. Create a derived class Manager that adds a bonus to the salary."
      ],
      "metadata": {
        "id": "it3x87pkxgqe"
      }
    },
    {
      "cell_type": "code",
      "source": [
        "class Employee:\n",
        "    def __init__(self, name, hours_worked, hourly_rate):\n",
        "        self.name = name\n",
        "        self.hours_worked = hours_worked\n",
        "        self.hourly_rate = hourly_rate\n",
        "\n",
        "    def calculate_salary(self):\n",
        "        return self.hours_worked * self.hourly_rate  # Basic salary calculation\n",
        "\n",
        "class Manager(Employee):\n",
        "    def __init__(self, name, hours_worked, hourly_rate, bonus):\n",
        "        super().__init__(name, hours_worked, hourly_rate)\n",
        "        self.bonus = bonus  # Additional attribute for managers\n",
        "\n",
        "    def calculate_salary(self):\n",
        "        base_salary = super().calculate_salary()  # Get base salary\n",
        "        return base_salary + self.bonus  # Add bonus for manager\n",
        "\n",
        "# Creating Employee and Manager instances\n",
        "emp = Employee(\"Alice\", 40, 20)  # 40 hours, $20/hour\n",
        "mgr = Manager(\"Bob\", 45, 30, 500)  # 45 hours, $30/hour + $500 bonus\n",
        "\n",
        "# Calculating salaries\n",
        "print(f\"{emp.name}'s Salary: ${emp.calculate_salary()}\")  # Output: Alice's Salary: $800\n",
        "print(f\"{mgr.name}'s Salary: ${mgr.calculate_salary()}\")  # Output: Bob's Salary: $1850\n"
      ],
      "metadata": {
        "id": "adw_xmtdxoO3"
      },
      "execution_count": null,
      "outputs": []
    },
    {
      "cell_type": "markdown",
      "source": [
        "15.Create a class Product with attributes name, price, and quantity. Implement a method total_price() that calculates the total price of the product."
      ],
      "metadata": {
        "id": "BMMkk36Cx6Ju"
      }
    },
    {
      "cell_type": "code",
      "source": [
        "class Product:\n",
        "    def __init__(self, name, price, quantity):\n",
        "        self.name = name\n",
        "        self.price = price\n",
        "        self.quantity = quantity\n",
        "\n",
        "    def total_price(self):\n",
        "        return self.price * self.quantity  # Calculates total price\n",
        "\n",
        "# Creating Product instances\n",
        "product1 = Product(\"Laptop\", 1000, 2)\n",
        "product2 = Product(\"Smartphone\", 500, 3)\n",
        "\n",
        "# Printing total prices\n",
        "print(f\"Total price for {product1.name}: ${product1.total_price()}\")  # Output: Total price for Laptop: $2000\n",
        "print(f\"Total price for {product2.name}: ${product2.total_price()}\")  # Output: Total price for Smartphone: $1500\n"
      ],
      "metadata": {
        "id": "0vj4MlbNxyDe"
      },
      "execution_count": null,
      "outputs": []
    },
    {
      "cell_type": "markdown",
      "source": [
        "16.Create a class Animal with an abstract method sound(). Create two derived classes Cow and Sheep that implement the sound() method."
      ],
      "metadata": {
        "id": "VakopGkOx9ku"
      }
    },
    {
      "cell_type": "code",
      "source": [
        "from abc import ABC, abstractmethod\n",
        "\n",
        "# Abstract class Animal\n",
        "class Animal(ABC):\n",
        "    @abstractmethod\n",
        "    def sound(self):\n",
        "        pass  # Abstract method (must be implemented in subclasses)\n",
        "\n",
        "# Derived class Cow\n",
        "class Cow(Animal):\n",
        "    def sound(self):\n",
        "        return \"Moo!\"\n",
        "\n",
        "# Derived class Sheep\n",
        "class Sheep(Animal):\n",
        "    def sound(self):\n",
        "        return \"Baa!\"\n",
        "\n",
        "# Creating instances\n",
        "cow = Cow()\n",
        "sheep = Sheep()\n",
        "\n",
        "# Calling sound() method\n",
        "print(f\"Cow says: {cow.sound()}\")   # Output: Cow says: Moo!\n",
        "print(f\"Sheep says: {sheep.sound()}\")  # Output: Sheep says: Baa!\n"
      ],
      "metadata": {
        "id": "mRFZ6jI_yCvu"
      },
      "execution_count": null,
      "outputs": []
    },
    {
      "cell_type": "markdown",
      "source": [
        "17.Create a class Book with attributes title, author, and year_published. Add a method get_book_info() that returns a formatted string with the book's details."
      ],
      "metadata": {
        "id": "cw4F2xEOyida"
      }
    },
    {
      "cell_type": "code",
      "source": [
        "class Book:\n",
        "    def __init__(self, title, author, year_published):\n",
        "        self.title = title\n",
        "        self.author = author\n",
        "        self.year_published = year_published\n",
        "\n",
        "    def get_book_info(self):\n",
        "        return f\"'{self.title}' by {self.author}, published in {self.year_published}.\"\n",
        "\n",
        "# Creating Book instances\n",
        "book1 = Book(\"To Kill a Mockingbird\", \"Harper Lee\", 1960)\n",
        "book2 = Book(\"1984\", \"George Orwell\", 1949)\n",
        "\n",
        "# Printing book information\n",
        "print(book1.get_book_info())  # Output: 'To Kill a Mockingbird' by Harper Lee, published in 1960.\n",
        "print(book2.get_book_info())  # Output: '1984' by George Orwell, published in 1949.\n"
      ],
      "metadata": {
        "id": "9IAiihvfym-b"
      },
      "execution_count": null,
      "outputs": []
    },
    {
      "cell_type": "markdown",
      "source": [
        "18.Create a class House with attributes address and price. Create a derived class Mansion that adds an attribute number_of_rooms."
      ],
      "metadata": {
        "id": "PuzhmjGEzH0_"
      }
    },
    {
      "cell_type": "code",
      "source": [
        "class House:\n",
        "    def __init__(self, address, price):\n",
        "        self.address = address\n",
        "        self.price = price\n",
        "\n",
        "    def get_info(self):\n",
        "        return f\"House at {self.address}, priced at ${self.price}.\"\n",
        "\n",
        "class Mansion(House):\n",
        "    def __init__(self, address, price, number_of_rooms):\n",
        "        super().__init__(address, price)\n",
        "        self.number_of_rooms = number_of_rooms\n",
        "\n",
        "    def get_info(self):\n",
        "        return f\"Mansion at {self.address}, priced at ${self.price}, with {self.number_of_rooms} rooms.\"\n",
        "\n",
        "# Creating House and Mansion instances\n",
        "house = House(\"123 Main St\", 250000)\n",
        "mansion = Mansion(\"456 Luxury Lane\", 5000000, 12)\n",
        "\n",
        "# Printing details\n",
        "print(house.get_info())   # Output: House at 123 Main St, priced at $250000.\n",
        "print(mansion.get_info()) # Output: Mansion at 456 Luxury Lane, priced at $5000000, with 12 rooms.\n"
      ],
      "metadata": {
        "colab": {
          "base_uri": "https://localhost:8080/"
        },
        "id": "5EhI7kuqzXiN",
        "outputId": "940d301e-572c-44e8-b459-989e0075d002"
      },
      "execution_count": 1,
      "outputs": [
        {
          "output_type": "stream",
          "name": "stdout",
          "text": [
            "House at 123 Main St, priced at $250000.\n",
            "Mansion at 456 Luxury Lane, priced at $5000000, with 12 rooms.\n"
          ]
        }
      ]
    }
  ]
}